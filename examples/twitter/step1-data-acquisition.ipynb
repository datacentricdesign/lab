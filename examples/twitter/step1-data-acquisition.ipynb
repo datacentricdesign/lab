{
 "cells": [
  {
   "cell_type": "markdown",
   "metadata": {},
   "source": [
    "# Step 1: Data Acquisition\n",
    "Series on Designing with Twitter Data "
   ]
  },
  {
   "cell_type": "markdown",
   "metadata": {},
   "source": [
    "In this tutorial: \n",
    "* Task 1: Retrieving data from Twitter\n",
    "* Task 2: Managing data\n",
    "\n",
    "### Output: tweets.csv -> Step 5\n",
    "\n",
    "For Education Only\n",
    "\n",
    "@ Wolf & Jacky - SST - IO - TUDelft \n",
    "\n",
    "V1.0: April 20, 2020"
   ]
  },
  {
   "cell_type": "markdown",
   "metadata": {},
   "source": [
    "# Task 1: Retrieving Data from Twitter"
   ]
  },
  {
   "cell_type": "markdown",
   "metadata": {},
   "source": [
    "The objective of this task is to get you familiar with Twitter REST API. To achieve this, you will first create a data retrieving application. Next, you will use the library tweepy to interact with Twitter and access Tweets."
   ]
  },
  {
   "cell_type": "markdown",
   "metadata": {},
   "source": [
    "## 1.1 Data Retrieving Application"
   ]
  },
  {
   "cell_type": "markdown",
   "metadata": {},
   "source": [
    "To access tweets from Twitter, you need to register an 'application' on Twitter as a Developer before you can use it.\n",
    "\n",
    "If you do not have one yet, create a Twitter account: https://twitter.com\n",
    "\n",
    "Then, you need to upgrade this account to a developer account: https://dev.twitter.com\n",
    "\n",
    "Finally, you can access the application page via the following link: https://dev.twitter.com/apps\n",
    "\n",
    "By clicking on the blue button 'Create an app', you need to provide some basic information about the application.\n",
    "\n",
    "After that, you will be able to get the following parameters:\n",
    "\n",
    "* Consumer key;\n",
    "* Consumer secret;\n",
    "* Access token;\n",
    "* Access token secret.\n",
    "\n",
    "We need these four parameters to get our code authenticated with OAuth on Twitter. Let's create a .env file in the  project folder and write the following 4 lines, replacing YOUR-... with your own keys and secrets.\n",
    "\n",
    "```\n",
    "CONSUMER_KEY=YOUR-KEY\n",
    "CONSUMER_SECRET=YOUR-SECRET\n",
    "\n",
    "ACCESS_TOKEN=YOUR-TOKEN\n",
    "ACCESS_TOKEN_SECRET=YOUR-TOKEN-SECRET\n",
    "```\n",
    "\n",
    "With this, we will be able to share our code openly without sharing our credentials."
   ]
  },
  {
   "cell_type": "markdown",
   "metadata": {},
   "source": [
    "## 1.2 Retrieving Data"
   ]
  },
  {
   "cell_type": "markdown",
   "metadata": {},
   "source": [
    "It is tme to start coding! The first thing we need is to tell our code is where to find our Keys and Secrets. We use the library 'dotenv' to extract this information from the .env file."
   ]
  },
  {
   "cell_type": "code",
   "execution_count": 1,
   "metadata": {},
   "outputs": [
    {
     "name": "stdout",
     "output_type": "stream",
     "text": [
      "Requirement already satisfied: python-dotenv in /Applications/anaconda3/lib/python3.7/site-packages (0.13.0)\n",
      "STE28FWWHZxmGUmlYGXig8YvC\n"
     ]
    }
   ],
   "source": [
    "# Install the library\n",
    "!pip install python-dotenv\n",
    "# Load it on the Notebook\n",
    "from dotenv import load_dotenv\n",
    "import os\n",
    "load_dotenv()\n",
    "\n",
    "# Use it to retieve our four Twitter parameters\n",
    "consumer_key = os.environ['CONSUMER_KEY']\n",
    "consumer_secret= os.environ['CONSUMER_SECRET']\n",
    "access_token=os.environ['ACCESS_TOKEN']\n",
    "access_token_secret=os.environ['ACCESS_TOKEN_SECRET']"
   ]
  },
  {
   "cell_type": "markdown",
   "metadata": {},
   "source": [
    "For the next step, we use another Python library, tweepy, to facilitate our interaction with Twitter. Let's install and load the library."
   ]
  },
  {
   "cell_type": "code",
   "execution_count": 2,
   "metadata": {},
   "outputs": [
    {
     "name": "stdout",
     "output_type": "stream",
     "text": [
      "Requirement already satisfied: tweepy in /Applications/anaconda3/lib/python3.7/site-packages (3.8.0)\n",
      "Requirement already satisfied: PySocks>=1.5.7 in /Applications/anaconda3/lib/python3.7/site-packages (from tweepy) (1.7.1)\n",
      "Requirement already satisfied: requests>=2.11.1 in /Applications/anaconda3/lib/python3.7/site-packages (from tweepy) (2.22.0)\n",
      "Requirement already satisfied: requests-oauthlib>=0.7.0 in /Applications/anaconda3/lib/python3.7/site-packages (from tweepy) (1.3.0)\n",
      "Requirement already satisfied: six>=1.10.0 in /Applications/anaconda3/lib/python3.7/site-packages (from tweepy) (1.14.0)\n",
      "Requirement already satisfied: chardet<3.1.0,>=3.0.2 in /Applications/anaconda3/lib/python3.7/site-packages (from requests>=2.11.1->tweepy) (3.0.4)\n",
      "Requirement already satisfied: urllib3!=1.25.0,!=1.25.1,<1.26,>=1.21.1 in /Applications/anaconda3/lib/python3.7/site-packages (from requests>=2.11.1->tweepy) (1.25.8)\n",
      "Requirement already satisfied: idna<2.9,>=2.5 in /Applications/anaconda3/lib/python3.7/site-packages (from requests>=2.11.1->tweepy) (2.8)\n",
      "Requirement already satisfied: certifi>=2017.4.17 in /Applications/anaconda3/lib/python3.7/site-packages (from requests>=2.11.1->tweepy) (2019.11.28)\n",
      "Requirement already satisfied: oauthlib>=3.0.0 in /Applications/anaconda3/lib/python3.7/site-packages (from requests-oauthlib>=0.7.0->tweepy) (3.1.0)\n"
     ]
    }
   ],
   "source": [
    "!pip install tweepy\n",
    "from tweepy import OAuthHandler, API\n",
    "import json"
   ]
  },
  {
   "cell_type": "markdown",
   "metadata": {},
   "source": [
    "Once you have the tokens and secrets stored in four variables as above, you can run the following code establish the connection with Twitter via the OAuthHandler and API object from tweepy."
   ]
  },
  {
   "cell_type": "code",
   "execution_count": 3,
   "metadata": {},
   "outputs": [],
   "source": [
    "auth = OAuthHandler(consumer_key, consumer_secret)\n",
    "auth.set_access_token(access_token, access_token_secret)\n",
    "api = API(auth)"
   ]
  },
  {
   "cell_type": "markdown",
   "metadata": {},
   "source": [
    "Let's retrieve the tweets from your own timeline. The following code uses the API object to get tweets from your timeline (function 'home_timeline') and stores them in a variable called public_tweets."
   ]
  },
  {
   "cell_type": "code",
   "execution_count": 4,
   "metadata": {},
   "outputs": [],
   "source": [
    "public_tweets = api.home_timeline()"
   ]
  },
  {
   "cell_type": "markdown",
   "metadata": {},
   "source": [
    "Printing the results give us a long JSON structure (starting with _json=), not very easy to read."
   ]
  },
  {
   "cell_type": "code",
   "execution_count": null,
   "metadata": {},
   "outputs": [],
   "source": [
    "# foreach tweets from the result\n",
    "for tweet in public_tweets:\n",
    "   # printing the text stored inside the tweet object\n",
    "   print(tweet.text)"
   ]
  },
  {
   "cell_type": "markdown",
   "metadata": {},
   "source": [
    "## 1.3 Searching per Twitter Id"
   ]
  },
  {
   "cell_type": "markdown",
   "metadata": {},
   "source": [
    "Our twitter timeline is a good test, but it does not get us far in the exploration of a given topic. A more effective way is to look for a specific account id (e.g. a person, a company). This time, we use the function 'user_timeline' with an twitter acount id and anumber of tweet we want. In the following example we try to pull 20 tweets from Tesla's Twitter account."
   ]
  },
  {
   "cell_type": "code",
   "execution_count": 15,
   "metadata": {},
   "outputs": [
    {
     "name": "stdout",
     "output_type": "stream",
     "text": [
      "RT @throtlmktplc: If you could end COVID-19 by sacrificing one car, what would it be? And why the Prius?\n",
      "RT @Sofonisbe: @schmangee Even sedans look meaner than they did a decade ago. I have to wonder if driving a more aggressive-looking car—eve…\n",
      "RT @Sofonisbe: @schmangee Even sedans look meaner than they did a decade ago. I have to wonder if driving a more aggressive-looking car—eve…\n",
      "@schmangee Even sedans look meaner than they did a decade ago. I have to wonder if driving a more aggressive-lookin… https://t.co/ba7fm7sEkZ\n",
      "So I'm walking to my car and, for some reason, it's in a store parking lot. I think it was at a Meijer based on the… https://t.co/dsyp9zDnSP\n",
      "RT @throtlmktplc: If you could end COVID-19 by sacrificing one car, what would it be? And why the Prius?\n",
      "RT @fox35orlando: KINDNESS OF STRANGERS: When a nurse’s car broke down before her hospital shift, a stranger not only lent her his car, but…\n",
      "RT @jbenton62: @Uber_Support can you please give delivery option to HDC1582 ( Toyota Prius )? and remove TAC4379 ? I have sold this car. Th…\n",
      "@Uber_Support can you please give delivery option to HDC1582 ( Toyota Prius )? and remove TAC4379 ? I have sold this car. Thank you !\n",
      "@TheOldLoftyOne @KimKDhaliwal @SkyNews Like going to work, taking the kids to school, going shopping ? We can’t all… https://t.co/6gc61AdqGO\n",
      "@Hardforkers @SirToshiTV It’s like saying everyone should own a Prius it’s the only car... yet I drive a mini and s… https://t.co/hFM8Fx1ssx\n",
      "RT @throtlmktplc: If you could end COVID-19 by sacrificing one car, what would it be? And why the Prius?\n",
      "@barnunxx Idc what you say my car will shit on your little Prius\n",
      "@JackRevered I saw $1.69 in my town in Florida... However, i still have some gas left from the $10 i put in my tank… https://t.co/kOVkUW4K6j\n",
      "RT @PeteComedian: @JesseKellyDC @Patty1z Brian Stelter fun facts\n",
      "\n",
      "His Mom cut the crust off his sandwich until he was married.\n",
      "His wife now…\n",
      "@JesseKellyDC @Patty1z Brian Stelter fun facts\n",
      "\n",
      "His Mom cut the crust off his sandwich until he was married.\n",
      "His wi… https://t.co/auQcSxdxyF\n",
      "RT @throtlmktplc: If you could end COVID-19 by sacrificing one car, what would it be? And why the Prius?\n",
      "RT @throtlmktplc: If you could end COVID-19 by sacrificing one car, what would it be? And why the Prius?\n",
      "RT @throtlmktplc: If you could end COVID-19 by sacrificing one car, what would it be? And why the Prius?\n",
      "@stammsghost @oneminutecall @AEVanSaun Agreed. Why pay top dollar for *that*?  We’ve had our Tesla for seven years… https://t.co/3J69zHCjwy\n"
     ]
    }
   ],
   "source": [
    "# Twitter account to look at\n",
    "twitter_id = \"Tesla\"\n",
    "# Number of tweets to pull\n",
    "tweetCount = 20\n",
    "# Calling the user_timeline function with our parameters\n",
    "timeline_results = api.user_timeline(id=twitter_id, count=tweetCount)\n",
    "# Toreach tweet of the result\n",
    "for tweet in results:\n",
    "   # printing the text stored inside the tweet object\n",
    "   print(tweet.text)"
   ]
  },
  {
   "cell_type": "markdown",
   "metadata": {},
   "source": [
    "## 1.4 Searching per Query"
   ]
  },
  {
   "cell_type": "markdown",
   "metadata": {},
   "source": [
    "Finally, going more into the details, we can specify a more specific query on a topic. In the following example, we use the function 'search' to try to pull 20 tweets in english that include the keywords 'prius' and 'car'."
   ]
  },
  {
   "cell_type": "code",
   "execution_count": 16,
   "metadata": {},
   "outputs": [
    {
     "name": "stdout",
     "output_type": "stream",
     "text": [
      "RT @throtlmktplc: If you could end COVID-19 by sacrificing one car, what would it be? And why the Prius?\n",
      "RT @Sofonisbe: @schmangee Even sedans look meaner than they did a decade ago. I have to wonder if driving a more aggressive-looking car—eve…\n",
      "RT @Sofonisbe: @schmangee Even sedans look meaner than they did a decade ago. I have to wonder if driving a more aggressive-looking car—eve…\n",
      "@schmangee Even sedans look meaner than they did a decade ago. I have to wonder if driving a more aggressive-lookin… https://t.co/ba7fm7sEkZ\n",
      "So I'm walking to my car and, for some reason, it's in a store parking lot. I think it was at a Meijer based on the… https://t.co/dsyp9zDnSP\n",
      "RT @throtlmktplc: If you could end COVID-19 by sacrificing one car, what would it be? And why the Prius?\n",
      "RT @fox35orlando: KINDNESS OF STRANGERS: When a nurse’s car broke down before her hospital shift, a stranger not only lent her his car, but…\n",
      "RT @jbenton62: @Uber_Support can you please give delivery option to HDC1582 ( Toyota Prius )? and remove TAC4379 ? I have sold this car. Th…\n",
      "@Uber_Support can you please give delivery option to HDC1582 ( Toyota Prius )? and remove TAC4379 ? I have sold this car. Thank you !\n",
      "@TheOldLoftyOne @KimKDhaliwal @SkyNews Like going to work, taking the kids to school, going shopping ? We can’t all… https://t.co/6gc61AdqGO\n",
      "@Hardforkers @SirToshiTV It’s like saying everyone should own a Prius it’s the only car... yet I drive a mini and s… https://t.co/hFM8Fx1ssx\n",
      "RT @throtlmktplc: If you could end COVID-19 by sacrificing one car, what would it be? And why the Prius?\n",
      "@barnunxx Idc what you say my car will shit on your little Prius\n",
      "@JackRevered I saw $1.69 in my town in Florida... However, i still have some gas left from the $10 i put in my tank… https://t.co/kOVkUW4K6j\n",
      "RT @PeteComedian: @JesseKellyDC @Patty1z Brian Stelter fun facts\n",
      "\n",
      "His Mom cut the crust off his sandwich until he was married.\n",
      "His wife now…\n",
      "@JesseKellyDC @Patty1z Brian Stelter fun facts\n",
      "\n",
      "His Mom cut the crust off his sandwich until he was married.\n",
      "His wi… https://t.co/auQcSxdxyF\n",
      "RT @throtlmktplc: If you could end COVID-19 by sacrificing one car, what would it be? And why the Prius?\n",
      "RT @throtlmktplc: If you could end COVID-19 by sacrificing one car, what would it be? And why the Prius?\n",
      "RT @throtlmktplc: If you could end COVID-19 by sacrificing one car, what would it be? And why the Prius?\n",
      "@stammsghost @oneminutecall @AEVanSaun Agreed. Why pay top dollar for *that*?  We’ve had our Tesla for seven years… https://t.co/3J69zHCjwy\n"
     ]
    }
   ],
   "source": [
    "# Simple query,\n",
    "query = \"prius car\"\n",
    "# Number of tweets to pull\n",
    "tweetCount = 20\n",
    "# Language code (follows ISO 639-1 standards)\n",
    "language = \"en\"# Calling the user_timeline function with our parameters\n",
    "query_results = api.search(q=query, lang=language, count=tweetCount)# foreach through all tweets pulled\n",
    "for tweet in query_results:\n",
    "   # printing the text stored inside the tweet object\n",
    "   print(tweet.text)"
   ]
  },
  {
   "cell_type": "markdown",
   "metadata": {},
   "source": [
    "You can find more options and documentation in the [Tweepy documentation](http://docs.tweepy.org/en/latest/api.html#API.search)"
   ]
  },
  {
   "cell_type": "markdown",
   "metadata": {},
   "source": [
    "# Task 2: Managing Data"
   ]
  },
  {
   "cell_type": "markdown",
   "metadata": {},
   "source": [
    "In this second task, we will look at the result itself, how it is formated, what it contains and how to store the tweets."
   ]
  },
  {
   "cell_type": "markdown",
   "metadata": {},
   "source": [
    "## 2.1 Navigating the Results"
   ]
  },
  {
   "cell_type": "markdown",
   "metadata": {},
   "source": [
    "Looking back at the previous example of query with 'prius' and 'car', let's print the raw JSON result of the query. JSON (for JavaScript Object Notification) is a common data structure to exchange information. the function json.dumps help us handling this structure by formatting it. You can try with and without the parameter 'indent=2' for better readability. "
   ]
  },
  {
   "cell_type": "code",
   "execution_count": 44,
   "metadata": {},
   "outputs": [
    {
     "name": "stdout",
     "output_type": "stream",
     "text": [
      "{\n",
      "  \"created_at\": \"Mon Apr 20 17:54:35 +0000 2020\",\n",
      "  \"id\": 1252294606349144064,\n",
      "  \"id_str\": \"1252294606349144064\",\n",
      "  \"text\": \"My car big af so I never even try to parallel park but with this Prius I park like a G\",\n",
      "  \"truncated\": false,\n",
      "  \"entities\": {\n",
      "    \"hashtags\": [],\n",
      "    \"symbols\": [],\n",
      "    \"user_mentions\": [],\n",
      "    \"urls\": []\n",
      "  },\n",
      "  \"metadata\": {\n",
      "    \"iso_language_code\": \"en\",\n",
      "    \"result_type\": \"recent\"\n",
      "  },\n",
      "  \"source\": \"<a href=\\\"http://twitter.com/download/iphone\\\" rel=\\\"nofollow\\\">Twitter for iPhone</a>\",\n",
      "  \"in_reply_to_status_id\": null,\n",
      "  \"in_reply_to_status_id_str\": null,\n",
      "  \"in_reply_to_user_id\": null,\n",
      "  \"in_reply_to_user_id_str\": null,\n",
      "  \"in_reply_to_screen_name\": null,\n",
      "  \"user\": {\n",
      "    \"id\": 2881506710,\n",
      "    \"id_str\": \"2881506710\",\n",
      "    \"name\": \"\\uff71\\u4e47\\uff71\\u4e47\",\n",
      "    \"screen_name\": \"s3xyp3p3\",\n",
      "    \"location\": \"\",\n",
      "    \"description\": \"luke skywalkin on these haters\",\n",
      "    \"url\": \"https://t.co/A9Pe0Lqvh2\",\n",
      "    \"entities\": {\n",
      "      \"url\": {\n",
      "        \"urls\": [\n",
      "          {\n",
      "            \"url\": \"https://t.co/A9Pe0Lqvh2\",\n",
      "            \"expanded_url\": \"https://www.paypal.me/s3xyp3p3\",\n",
      "            \"display_url\": \"paypal.me/s3xyp3p3\",\n",
      "            \"indices\": [\n",
      "              0,\n",
      "              23\n",
      "            ]\n",
      "          }\n",
      "        ]\n",
      "      },\n",
      "      \"description\": {\n",
      "        \"urls\": []\n",
      "      }\n",
      "    },\n",
      "    \"protected\": false,\n",
      "    \"followers_count\": 226,\n",
      "    \"friends_count\": 171,\n",
      "    \"listed_count\": 0,\n",
      "    \"created_at\": \"Wed Oct 29 03:02:23 +0000 2014\",\n",
      "    \"favourites_count\": 4339,\n",
      "    \"utc_offset\": null,\n",
      "    \"time_zone\": null,\n",
      "    \"geo_enabled\": true,\n",
      "    \"verified\": false,\n",
      "    \"statuses_count\": 3800,\n",
      "    \"lang\": null,\n",
      "    \"contributors_enabled\": false,\n",
      "    \"is_translator\": false,\n",
      "    \"is_translation_enabled\": false,\n",
      "    \"profile_background_color\": \"C0DEED\",\n",
      "    \"profile_background_image_url\": \"http://abs.twimg.com/images/themes/theme1/bg.png\",\n",
      "    \"profile_background_image_url_https\": \"https://abs.twimg.com/images/themes/theme1/bg.png\",\n",
      "    \"profile_background_tile\": false,\n",
      "    \"profile_image_url\": \"http://pbs.twimg.com/profile_images/1224230970066210817/EwCMQzWA_normal.jpg\",\n",
      "    \"profile_image_url_https\": \"https://pbs.twimg.com/profile_images/1224230970066210817/EwCMQzWA_normal.jpg\",\n",
      "    \"profile_banner_url\": \"https://pbs.twimg.com/profile_banners/2881506710/1587180478\",\n",
      "    \"profile_link_color\": \"1DA1F2\",\n",
      "    \"profile_sidebar_border_color\": \"C0DEED\",\n",
      "    \"profile_sidebar_fill_color\": \"DDEEF6\",\n",
      "    \"profile_text_color\": \"333333\",\n",
      "    \"profile_use_background_image\": true,\n",
      "    \"has_extended_profile\": true,\n",
      "    \"default_profile\": true,\n",
      "    \"default_profile_image\": false,\n",
      "    \"following\": false,\n",
      "    \"follow_request_sent\": false,\n",
      "    \"notifications\": false,\n",
      "    \"translator_type\": \"none\"\n",
      "  },\n",
      "  \"geo\": null,\n",
      "  \"coordinates\": null,\n",
      "  \"place\": null,\n",
      "  \"contributors\": null,\n",
      "  \"is_quote_status\": false,\n",
      "  \"retweet_count\": 0,\n",
      "  \"favorite_count\": 0,\n",
      "  \"favorited\": false,\n",
      "  \"retweeted\": false,\n",
      "  \"lang\": \"en\"\n",
      "}\n"
     ]
    }
   ],
   "source": [
    "query_results = api.search(q=\"prius car\", lang=\"en\", count=1)\n",
    "for tweet in query_results:\n",
    "   # printing the raw json\n",
    "   print(json.dumps(tweet._json, indent=2))"
   ]
  },
  {
   "cell_type": "markdown",
   "metadata": {},
   "source": [
    "For this query we set the number of tweet to 1 and still, the result is long: there is much more than the text of the Tweet. Browsing through the key/values you we certainly spot the creation date (create_date), the unique id of the tweet and the text of the tweet. Further down, a data structure reveal information about the user including its name, description and so on. Towards the end, there is also infomation about the number of retweet or favorite. Any of those  attributes can be extracted, but keep in mind that all tweet do not have all the possible information."
   ]
  },
  {
   "cell_type": "markdown",
   "metadata": {},
   "source": [
    "To navigate the results to only extract the values we want, we use the dot '.' to enter an attribute. Here is an example to extract the name of the tweet author. Try to change the code for to extract another attribute."
   ]
  },
  {
   "cell_type": "code",
   "execution_count": 38,
   "metadata": {},
   "outputs": [
    {
     "name": "stdout",
     "output_type": "stream",
     "text": [
      "\n",
      "Nobody's fool, w/ possible exception of sons. #fishtown organizer. @friendsofadaire founder. Ex- @PCCYteam @whyyradiotimes & recovering journalist.\n",
      "Transportation writer. Working on a book about the pedestrian safety crisis for @islandpress. Formerly: @streetsblogUSA SUV anti-stan account.\n",
      "Feminist urbanist leftist. #BanCars #UBI #ScoreVoting #Bernie2020\n",
      "Friendly neighborhood flower-bi.\n",
      "\n",
      "Genderqueer, Nonbinary, Bisexual.\n",
      "\n",
      "Bibibop, Music, Boardgames, Math, Languages, Food, Puns, Origami, & Queer Stuff.\n",
      "\n",
      "They/Them\n"
     ]
    }
   ],
   "source": [
    "test_results = api.search(q=\"prius car\", lang=\"en\", count=5)\n",
    "for tweet in test_results:\n",
    "   # printing the author's name of each tweet\n",
    "   print(tweet.user.description)"
   ]
  },
  {
   "cell_type": "markdown",
   "metadata": {},
   "source": [
    "## 2.2 Storing and Retrieving Data from JSON"
   ]
  },
  {
   "cell_type": "markdown",
   "metadata": {},
   "source": [
    "We can also store the result in a file. To do this, we use the function open() with the name of the file and the option 'a' (append mode) to continuously add at the end of the file."
   ]
  },
  {
   "cell_type": "code",
   "execution_count": 58,
   "metadata": {},
   "outputs": [
    {
     "name": "stdout",
     "output_type": "stream",
     "text": [
      "100 tweets stored.\n"
     ]
    }
   ],
   "source": [
    "query_results = api.search(q=\"prius car\", lang=\"en\", count=100)\n",
    "# Open file with option 'a' for 'append' new content at the end of the file.\n",
    "json_file = open(\"tweets.json\",\"a\")\n",
    "count=0\n",
    "for tweet in query_results:\n",
    "    # write tweet in file\n",
    "    json_file.write(json.dumps(tweet._json))\n",
    "    # Create a new line\n",
    "    json_file.write('\\n')\n",
    "    count=count+1\n",
    "json_file.close()\n",
    "print(count, 'tweets stored as JSON.')"
   ]
  },
  {
   "cell_type": "markdown",
   "metadata": {},
   "source": [
    "## 2.3 Storing and Retriving Data from CSV"
   ]
  },
  {
   "cell_type": "markdown",
   "metadata": {},
   "source": [
    "Finally, we can combine the 2 previous steps (selecting attrbutes and storing into files) to store our data in a CSV format. CSV stands for Comma Separated Values. It is a common format to store tabular data such as spreadsheets. Instead of storing all the data retrieved from the query, we will select only the ID and the text. Feel free to experiment and store more fields. "
   ]
  },
  {
   "cell_type": "code",
   "execution_count": 61,
   "metadata": {},
   "outputs": [
    {
     "name": "stdout",
     "output_type": "stream",
     "text": [
      "100 tweets stored as CSV.\n"
     ]
    }
   ],
   "source": [
    "query_results = api.search(q=\"prius car\", lang=\"en\", count=100)\n",
    "# Open file with option 'a' for 'append' new content at the end of the file.\n",
    "csv_file = open(\"tweets.csv\",\"a\")\n",
    "count=0\n",
    "for tweet in query_results:\n",
    "    # Componse a line with the tweet id and the text.\n",
    "    # Note the double quotes to escape potential comma in the tweets,\n",
    "    # as well as the replacement of all new line by a space\n",
    "    line = tweet.id_str + ',\"' + tweet.text.replace('\\n',' ') + '\"\\n'\n",
    "    # Write tweet in file\n",
    "    csv_file.write(line)\n",
    "    # Count the number of line for the end message\n",
    "    count=count+1\n",
    "csv_file.close()\n",
    "print(count, 'tweets stored as CSV.')"
   ]
  },
  {
   "cell_type": "markdown",
   "metadata": {},
   "source": [
    "This file can be use as an input of new data in step 5."
   ]
  }
 ],
 "metadata": {
  "kernelspec": {
   "display_name": "Python 3",
   "language": "python",
   "name": "python3"
  },
  "language_info": {
   "codemirror_mode": {
    "name": "ipython",
    "version": 3
   },
   "file_extension": ".py",
   "mimetype": "text/x-python",
   "name": "python",
   "nbconvert_exporter": "python",
   "pygments_lexer": "ipython3",
   "version": "3.7.6"
  }
 },
 "nbformat": 4,
 "nbformat_minor": 4
}
